{
 "cells": [
  {
   "cell_type": "code",
   "execution_count": null,
   "id": "31588dc0",
   "metadata": {},
   "outputs": [],
   "source": [
    "!pip install pysal==2.7.0\n"
   ]
  },
  {
   "cell_type": "code",
   "execution_count": null,
   "id": "1c3eea32",
   "metadata": {},
   "outputs": [],
   "source": [
    "!pip install spreg"
   ]
  },
  {
   "cell_type": "code",
   "execution_count": null,
   "id": "3943217f",
   "metadata": {},
   "outputs": [],
   "source": [
    "!pip install mapclassify "
   ]
  },
  {
   "cell_type": "code",
   "execution_count": null,
   "id": "07d58350",
   "metadata": {},
   "outputs": [],
   "source": [
    "!pip install pandas"
   ]
  },
  {
   "cell_type": "code",
   "execution_count": null,
   "id": "069ba08a",
   "metadata": {},
   "outputs": [],
   "source": [
    "!pip install numpy"
   ]
  },
  {
   "cell_type": "code",
   "execution_count": null,
   "id": "430d175f",
   "metadata": {},
   "outputs": [],
   "source": [
    "!pip install fiona"
   ]
  },
  {
   "cell_type": "code",
   "execution_count": null,
   "id": "ba1fb55a",
   "metadata": {},
   "outputs": [],
   "source": [
    "! pip install geopandas"
   ]
  },
  {
   "cell_type": "code",
   "execution_count": null,
   "id": "31d16d73",
   "metadata": {
    "scrolled": true
   },
   "outputs": [],
   "source": [
    "!pip install fiona"
   ]
  },
  {
   "cell_type": "code",
   "execution_count": null,
   "id": "20af2cf7",
   "metadata": {},
   "outputs": [],
   "source": [
    "!pip install spreg\n"
   ]
  },
  {
   "cell_type": "code",
   "execution_count": null,
   "id": "e1878be8",
   "metadata": {
    "scrolled": false
   },
   "outputs": [],
   "source": [
    "!pip install pysal spreg"
   ]
  },
  {
   "cell_type": "code",
   "execution_count": null,
   "id": "de23c695",
   "metadata": {},
   "outputs": [],
   "source": [
    "!pip install spreg"
   ]
  },
  {
   "cell_type": "code",
   "execution_count": null,
   "id": "ff9b9bfc",
   "metadata": {},
   "outputs": [],
   "source": [
    "import os\n",
    "import pandas as pd\n",
    "import numpy as np\n",
    "import fiona\n",
    "import shapely\n",
    "from shapely.geometry import Point, Polygon\n",
    "import seaborn as sns\n",
    "sns.set_style(\"darkgrid\")\n",
    "import matplotlib\n",
    "import matplotlib.pyplot as plt\n",
    "import matplotlib.image as mpimg\n",
    "from matplotlib import gridspec\n",
    "%matplotlib inline\n",
    "from geopandas import GeoDataFrame\n",
    "from scipy import stats\n",
    "from IPython.display import IFrame\n",
    "import folium\n",
    "from folium import plugins\n",
    "from folium.plugins import HeatMap, MarkerCluster, FastMarkerCluster\n",
    "import pysal\n",
    "from pysal.spreg import ols\n",
    "from pysal.spreg import ml_error\n",
    "from pysal.spreg import ml_lag\n"
   ]
  },
  {
   "cell_type": "code",
   "execution_count": null,
   "id": "04e45c5e",
   "metadata": {},
   "outputs": [],
   "source": [
    "#Read the data"
   ]
  },
  {
   "cell_type": "code",
   "execution_count": null,
   "id": "276bcdc9",
   "metadata": {},
   "outputs": [],
   "source": [
    "imd=pd.read_csv('C:\\\\Users\\\\zahra\\\\Desktop\\\\programming_projectpp\\\\crime_data_NI.csv')\n",
    "# use TextFileReader iterable with chunks of 100,000 rows.\n",
    "tp = pd.read_csv('C:\\\\Users\\\\zahra\\\\Desktop\\\\programming_projectpp\\\\crime_data_NI.csv', iterator=True, chunksize=100000)  \n",
    "crime_data = pd.concat(tp, ignore_index=True)  \n",
    "# print data shape\n",
    "crime_data.shape"
   ]
  },
  {
   "cell_type": "code",
   "execution_count": null,
   "id": "4a8d34e8",
   "metadata": {},
   "outputs": [],
   "source": [
    "imd.describe()"
   ]
  },
  {
   "cell_type": "code",
   "execution_count": null,
   "id": "b0114337",
   "metadata": {},
   "outputs": [],
   "source": [
    "#Data cleaning for Crime Data"
   ]
  },
  {
   "cell_type": "code",
   "execution_count": null,
   "id": "a4beca91",
   "metadata": {},
   "outputs": [],
   "source": [
    "# view the basic stats on columns\n",
    "crime_data.info()"
   ]
  },
  {
   "cell_type": "code",
   "execution_count": null,
   "id": "6c899066",
   "metadata": {},
   "outputs": [],
   "source": [
    "crime_data.drop(['Context', 'Falls within','Reported by',  'Location','Last outcome category' ], inplace=True, axis=1)\n",
    "# show dataframe columns\n",
    "crime_data.columns"
   ]
  },
  {
   "cell_type": "code",
   "execution_count": null,
   "id": "72bc04fe",
   "metadata": {},
   "outputs": [],
   "source": [
    "# Now check the name of the fields and rename the columns by more python recognized names...\n",
    "colnames = ['ID','Month','lat','lon','code','name','type']\n",
    "crime_data.columns = colnames\n",
    "crime_data.head(4)"
   ]
  },
  {
   "cell_type": "code",
   "execution_count": null,
   "id": "5c0c584c",
   "metadata": {},
   "outputs": [],
   "source": [
    "# print all crime variables in the \"type\" column\n",
    "crimes = crime_data['type'].sort_values().unique()\n",
    "crimes, len(crimes)"
   ]
  },
  {
   "cell_type": "code",
   "execution_count": null,
   "id": "c96e4493",
   "metadata": {},
   "outputs": [],
   "source": [
    "# for examples, lets check out the column 'crime type'\n",
    "crime_data.type.value_counts()"
   ]
  },
  {
   "cell_type": "code",
   "execution_count": null,
   "id": "701e5614",
   "metadata": {},
   "outputs": [],
   "source": [
    "#Explore the most prevalent crime types"
   ]
  },
  {
   "cell_type": "code",
   "execution_count": null,
   "id": "1dc1a816",
   "metadata": {},
   "outputs": [],
   "source": [
    "crime_data_group = crime_data.groupby('type').size().reset_index(name='count')\n",
    "crime_data_sort = crime_data_group.sort_values(['count'], ascending=False).reset_index(drop=True)\n",
    "crime_data_sort"
   ]
  },
  {
   "cell_type": "code",
   "execution_count": null,
   "id": "cb20cfb2",
   "metadata": {},
   "outputs": [],
   "source": [
    "\n",
    "%matplotlib inline\n",
    "from geopandas import GeoDataFrame\n",
    "in_type=[crime_data_sort['type'][i]for i in range(3)]\n",
    "fillcolors = ['#ff0000','#0000ff','#00ff00']\n",
    "nlst = crime_data[crime_data.type.isin(in_type)].copy() \n",
    "nlst.shape"
   ]
  },
  {
   "cell_type": "code",
   "execution_count": null,
   "id": "0c1e80df",
   "metadata": {},
   "outputs": [],
   "source": [
    "nlst['lon'].notnull().count() # check whether they all have longitude data\n",
    "# Your code here to replace the ???\n",
    "nlst['lat'].notnull().count() # check whether they all have latitude data"
   ]
  },
  {
   "cell_type": "code",
   "execution_count": null,
   "id": "a0037bd5",
   "metadata": {},
   "outputs": [],
   "source": [
    "\n",
    "\n",
    "new_gdb = gpd.GeoSeries(nlst[['lon', 'lat']].apply(Point, axis=1), crs=\"+init=epsg:4326\")\n",
    "bbox = new_gdb.total_bounds\n",
    "titles=[\"Kernel Density: \"+in_type[i] for i in range(3)]\n",
    "    \n",
    "fig, axs = plt.subplots(2, 2, figsize = (12,12))\n",
    "\n",
    "ax1 = plt.subplot2grid((8,8), (0,0), rowspan=3, colspan=3) \n",
    "ax2 = plt.subplot2grid((8,8), (4,0), rowspan=3, colspan=3)\n",
    "ax3 = plt.subplot2grid((8,8), (0,4), rowspan=3, colspan=3)\n",
    "\n",
    "\n",
    "fig.tight_layout(pad = 0.4, w_pad = 4.0, h_pad = 4.0)\n",
    "ax1.set_title(titles[0], fontsize =16)\n",
    "ax2.set_title(titles[1], fontsize =16)\n",
    "ax3.set_title(titles[2], fontsize =16)\n",
    "\n",
    "ax1.set_xlim(bbox[0], bbox[2])\n",
    "ax1.set_ylim(bbox[1], bbox[3]) \n",
    "ax2.set_xlim(bbox[0], bbox[2])\n",
    "ax2.set_ylim(bbox[1], bbox[3]) \n",
    "ax3.set_xlim(bbox[0], bbox[2])\n",
    "ax3.set_ylim(bbox[1], bbox[3]) \n",
    "\n",
    "# ^The above code sets the x and y limits for each function. Without this, the density maps\n",
    "# are very small and only take up about 20% of the graph space.\n",
    "gdfnew1 = nlst[nlst['type']==in_type[0]]\n",
    "gdfnew2 = nlst[nlst['type']==in_type[1]]\n",
    "gdfnew3 = nlst[nlst['type']==in_type[2]]\n",
    "\n",
    "sns.kdeplot(gdfnew1.lon, gdfnew1.lat, shade = True, cmap = \"Reds\", ax=ax1) \n",
    "sns.kdeplot(gdfnew2.lon, gdfnew2.lat, shade = True, cmap = \"Blues\", ax=ax2)\n",
    "sns.kdeplot(gdfnew3.lon, gdfnew3.lat, shade = True, cmap = \"Greens\", ax=ax3)\n",
    "\n",
    "sns.set(style = \"whitegrid\") # aesthetics\n",
    "sns.despine(left=True) # aesthetics\n",
    "sns.set_context(\"paper\") # aesthetics\n",
    "plt.axis('equal')\n",
    "plt.show()   "
   ]
  },
  {
   "cell_type": "code",
   "execution_count": null,
   "id": "7e5e9690",
   "metadata": {},
   "outputs": [],
   "source": [
    "# Set up geodataframe, initially with CRS = WGS84 (since that matches the lon and lat co-ordinates)\n",
    "crs = {'init':'epsg:4326'}\n",
    "geometry = [shapely.geometry.Point(xy) for xy in zip(crime_data['lon'], crime_data['lat'])]\n",
    "geo_df = gpd.GeoDataFrame(crime_data,\n",
    "                               crs = crs,\n",
    "                               geometry = geometry)\n",
    "# Convert geometry to OSGB36 EPSG: 27700\n",
    "geo_df_new = geo_df.to_crs(epsg = 27700)\n",
    "# convert the .csv file into .shp file \n",
    "geo_df_new.to_file(driver='ESRI Shapefile', filename='crime_data.shp')"
   ]
  },
  {
   "cell_type": "code",
   "execution_count": null,
   "id": "224c78a1",
   "metadata": {},
   "outputs": [],
   "source": [
    "# Plot map\n",
    "fig, ax = plt.subplots(1,\n",
    "                       figsize = (12,12),\n",
    "                       dpi = 72,\n",
    "                       facecolor = 'pink')\n",
    "\n",
    "ax.set_position([0,0,1,1])   # Puts axis to edge of figure\n",
    "ax.set_axis_off()            # Turns axis off so facecolour applies to axis area as well as bit around the outside\n",
    "ax.get_xaxis().set_visible(False)   # Turns the x axis off so that 'invisible' axis labels don't take up space\n",
    "ax.get_yaxis().set_visible(False)\n",
    "lims = plt.axis('equal')\n",
    "geo_df_new.plot(ax=ax)\n",
    "plt.show()"
   ]
  },
  {
   "cell_type": "code",
   "execution_count": null,
   "id": "801415e4",
   "metadata": {},
   "outputs": [],
   "source": [
    "crime_data.head(4)"
   ]
  },
  {
   "cell_type": "code",
   "execution_count": null,
   "id": "2bf7879d",
   "metadata": {},
   "outputs": [],
   "source": [
    "#importing the polygon map for LGDs"
   ]
  },
  {
   "cell_type": "code",
   "execution_count": null,
   "id": "3ae4ba4a",
   "metadata": {},
   "outputs": [],
   "source": [
    "# draw the LSOA map and set its Coordinate Reference Systems (CRS) into EPSG: 27700.\n",
    "shapelgd=gpd.read_file('C:\\\\Users\\\\zahra\\\\Desktop\\\\programming_projectpp\\\\shapelgd.shp')\n",
    "f, ax = plt.subplots(1, figsize=(12, 12))\n",
    "ax = lsoa.plot(axes=ax);\n",
    "shapelgd.crs = {'init' :'epsg:27700'}\n",
    "plt.show()"
   ]
  },
  {
   "cell_type": "code",
   "execution_count": null,
   "id": "0d68c8f0",
   "metadata": {},
   "outputs": [],
   "source": [
    "# check the lsoa is a GeoDataFrame\n",
    "type(shapelgd)"
   ]
  },
  {
   "cell_type": "code",
   "execution_count": null,
   "id": "c96aead5",
   "metadata": {},
   "outputs": [],
   "source": [
    "# check the labels for columns in lsoa\n",
    "shapelgd.columns"
   ]
  },
  {
   "cell_type": "code",
   "execution_count": null,
   "id": "89da82dd",
   "metadata": {},
   "outputs": [],
   "source": [
    "# make the columns for LSOA data more readable\n",
    "# rename the indicator with full title to help you interpret the columns/indicators\n",
    "lsoa.drop(['objectid', 'lsoa11nmw','st_areasha', 'st_lengths', 'IMD2015_LS', 'IMD2015__1', 'IMD2015_Lo'], inplace=True, axis=1)\n",
    "colnames2 = ['code','name','IMDindex','Income','Employment','Education', 'Health','Subcrime','BarriersHou','LivEnviron','Affect_child', 'Affect_old', 'child_young','Adult_skill','Geobarrier','widerbarrier','indoors', 'outdoors','population','depend_child', 'peo_middle', 'peo_over60', 'work_age','geometry']\n",
    "lsoa.columns = colnames2\n",
    "lsoa.head(4)"
   ]
  },
  {
   "cell_type": "code",
   "execution_count": null,
   "id": "6561a4df",
   "metadata": {},
   "outputs": [],
   "source": [
    "# to visulize both crime points data and lsoa vector data on a map\n",
    "f, ax = plt.subplots(1, figsize=(12, 12))\n",
    "ax.set_axis_off()\n",
    "plt.axis('equal')\n",
    "lsoa.plot(ax=ax, cmap='OrRd', linewidth=0.5, edgecolor='white')\n",
    "geo_df_new.plot(column='type', markersize=3, categorical=True, legend=True, ax=ax)\n",
    "# the legend was set by default to take the first column as labels."
   ]
  },
  {
   "cell_type": "code",
   "execution_count": null,
   "id": "df8d4925",
   "metadata": {},
   "outputs": [],
   "source": [
    "#chloropleth for deprivation index"
   ]
  },
  {
   "cell_type": "code",
   "execution_count": null,
   "id": "69932c20",
   "metadata": {},
   "outputs": [],
   "source": [
    "# Make a Choropleth maps on the deprivation index.\n",
    "shapelgd.plot(column='pc_emp_dep', cmap='OrRd', scheme='quantiles')"
   ]
  },
  {
   "cell_type": "code",
   "execution_count": null,
   "id": "f1f18947",
   "metadata": {},
   "outputs": [],
   "source": [
    "# Please plot series quantile map for 3 sub domain of deprivation indexes you want to explore\n",
    "# e.g. Income, Employment, Education, etc.\n",
    "# Your code here\n",
    "shapelgd.plot(column='popn_dens', cmap='OrRd', scheme='quantiles')"
   ]
  },
  {
   "cell_type": "code",
   "execution_count": null,
   "id": "d8656d3a",
   "metadata": {},
   "outputs": [],
   "source": [
    "shapelgd.plot(column='pc_emp_dep', cmap='OrRd', scheme='quantiles')"
   ]
  },
  {
   "cell_type": "code",
   "execution_count": null,
   "id": "c5080c68",
   "metadata": {},
   "outputs": [],
   "source": [
    "shapelgd.plot(column='age18_64', cmap='OrRd', scheme='quantiles')"
   ]
  },
  {
   "cell_type": "code",
   "execution_count": null,
   "id": "f7853af7",
   "metadata": {},
   "outputs": [],
   "source": [
    "# Make a Choropleth map on crime incidents per lsoa.\n",
    "lsoa.plot(column='Numbers', cmap='coolwarm', scheme='quantiles')"
   ]
  },
  {
   "cell_type": "code",
   "execution_count": null,
   "id": "8cf96329",
   "metadata": {},
   "outputs": [],
   "source": [
    "#crime heat map"
   ]
  },
  {
   "cell_type": "code",
   "execution_count": null,
   "id": "e751a5ba",
   "metadata": {},
   "outputs": [],
   "source": [
    "crime_data['lat'] = crime_data['lat'].astype(float)\n",
    "crime_data['lon'] = crime_data['lon'].astype(float)\n",
    "\n",
    "# Filter the DF for rows, then columns, then remove NaNs\n",
    "heat_df = crime_data[['lat', 'lon']]\n",
    "heat_df = heat_df.dropna(axis=0, subset=['lat','lon'])\n",
    "\n",
    "# List comprehension to make out list of lists\n",
    "heat_data = [[row['lat'],row['lon']] for index, row in heat_df.iterrows()]\n",
    "\n",
    "heatmap_map = folium.Map([51.50632, -0.1271448], zoom_start=12)\n",
    "\n",
    "# Plot it on the map\n",
    "hm=plugins.HeatMap(heat_data)\n",
    "heatmap_map.add_child(hm)\n",
    "# You save a map as an html file \n",
    "heatmap_map.save(\"heatmap.html\")"
   ]
  },
  {
   "cell_type": "code",
   "execution_count": null,
   "id": "409dc3b4",
   "metadata": {},
   "outputs": [],
   "source": []
  }
 ],
 "metadata": {
  "kernelspec": {
   "display_name": "Python 3 (ipykernel)",
   "language": "python",
   "name": "python3"
  },
  "language_info": {
   "codemirror_mode": {
    "name": "ipython",
    "version": 3
   },
   "file_extension": ".py",
   "mimetype": "text/x-python",
   "name": "python",
   "nbconvert_exporter": "python",
   "pygments_lexer": "ipython3",
   "version": "3.8.8"
  }
 },
 "nbformat": 4,
 "nbformat_minor": 5
}
